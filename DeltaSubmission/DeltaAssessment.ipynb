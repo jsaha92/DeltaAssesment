{
  "nbformat": 4,
  "nbformat_minor": 0,
  "metadata": {
    "colab": {
      "provenance": []
    },
    "kernelspec": {
      "name": "python3",
      "display_name": "Python 3"
    },
    "language_info": {
      "name": "python"
    }
  },
  "cells": [
    {
      "cell_type": "markdown",
      "source": [
        "# Task 1 - SQL testing"
      ],
      "metadata": {
        "id": "C04oaZk8anE5"
      }
    },
    {
      "cell_type": "code",
      "source": [
        "import pandas as pd\n",
        "import sqlite3\n",
        "\n",
        "# Read Excel, header is on the 8th row (row index 7, since 0-based)\n",
        "df = pd.read_excel(\"/content/drive/MyDrive/Delta/Data Engineer_Assessment_Data Set_Flight Leg.xlsx\", header=7)\n",
        "df['lastupdt'] = df['lastupdt'].astype(str)\n",
        "# Create in-memory SQLite database\n",
        "conn = sqlite3.connect(\":memory:\")\n",
        "\n",
        "# Insert dataframe into database\n",
        "df.to_sql(\"my_table\", conn, index=False, if_exists=\"replace\")\n",
        "\n",
        "# Query to check\n",
        "cursor = conn.cursor()\n",
        "cursor.execute(\"\"\"\n",
        "WITH RankedFlights AS (\n",
        "    SELECT\n",
        "        flightkey,\n",
        "        flightnum,\n",
        "        flight_dt,\n",
        "        orig_arpt,\n",
        "        dest_arpt,\n",
        "        flightstatus,\n",
        "        lastupdt,\n",
        "        ROW_NUMBER() OVER (\n",
        "            PARTITION BY flight_dt, flightnum, orig_arpt, dest_arpt\n",
        "            ORDER BY lastupdt DESC, flightkey ASC  -- deterministic tie-breaker\n",
        "        ) AS rn\n",
        "    FROM my_table\n",
        ")\n",
        "SELECT\n",
        "    flightkey,\n",
        "    flightnum,\n",
        "    flight_dt,\n",
        "    orig_arpt,\n",
        "    dest_arpt,\n",
        "    flightstatus,\n",
        "    lastupdt\n",
        "FROM RankedFlights\n",
        "WHERE rn = 1;\n",
        "\n",
        "\n",
        "\"\"\")\n",
        "print(cursor.fetchall())\n",
        "\n",
        "conn.close()\n"
      ],
      "metadata": {
        "id": "-rhLlJN4A_03"
      },
      "execution_count": null,
      "outputs": []
    },
    {
      "cell_type": "markdown",
      "source": [
        "# Task 2 Python function creation and testing"
      ],
      "metadata": {
        "id": "JkvlBk0rareY"
      }
    },
    {
      "cell_type": "code",
      "source": [
        "import pandas as pd\n",
        "\n",
        "def get_latest_flight_status(file_path):\n",
        "    \"\"\"\n",
        "    Reads an Excel file with flight data, auto-detects the header row,\n",
        "    combines date and time into a proper datetime, drops carrier_code,\n",
        "    and returns the most recent status for each flightkey.\n",
        "\n",
        "    Parameters:\n",
        "        file_path (str): Path to the Excel file.\n",
        "\n",
        "    Returns:\n",
        "        pd.DataFrame: Table with the most recent flight status for each flightkey.\n",
        "    \"\"\"\n",
        "    # Read Excel without header\n",
        "    df = pd.read_excel(file_path, header=None)\n",
        "\n",
        "    # Detect header row by looking for 'flightkey'\n",
        "    header_row = df.apply(lambda row: row.astype(str).str.lower().eq('flightkey').any(), axis=1).idxmax()\n",
        "\n",
        "    if pd.isna(header_row):\n",
        "        raise ValueError(\"Could not find the header row in the file.\")\n",
        "\n",
        "    # Assign column names from header row\n",
        "    df.columns = df.iloc[header_row]\n",
        "\n",
        "    # Keep only rows below the header\n",
        "    df = df.iloc[header_row + 1:].reset_index(drop=True)\n",
        "\n",
        "    # Drop carrier_code if present (case-insensitive)\n",
        "    carrier_cols = [col for col in df.columns if str(col).strip().lower() in [\"carrier code\", \"carrier_code\"]]\n",
        "    if carrier_cols:\n",
        "        df = df.drop(columns=carrier_cols)\n",
        "\n",
        "    # Ensure flight_dt is date and combine with lastupdt\n",
        "    df['flight_dt'] = pd.to_datetime(df['flight_dt'], errors='coerce').dt.date\n",
        "    df['lastupdt'] = pd.to_datetime(\n",
        "        df['flight_dt'].astype(str) + \" \" + df['lastupdt'].astype(str),\n",
        "        errors='coerce'\n",
        "    )\n",
        "\n",
        "    # Sort so most recent lastupdt is first per flightkey\n",
        "    df = df.sort_values(by=['flightkey', 'lastupdt'], ascending=[True, False])\n",
        "\n",
        "    # Deduplicate: keep only the most recent entry per flightkey\n",
        "    latest_df = df.groupby('flightkey', as_index=False).first()\n",
        "\n",
        "    return latest_df\n",
        "\n",
        "\n"
      ],
      "metadata": {
        "id": "tSmyOOROhkuz"
      },
      "execution_count": 43,
      "outputs": []
    },
    {
      "cell_type": "code",
      "source": [
        "# Example usage\n",
        "if __name__ == \"__main__\":\n",
        "    file_path = \"/content/drive/MyDrive/Delta/Data Engineer_Assessment_Data Set_Flight Leg.xlsx\"\n",
        "    latest_status = get_latest_flight_status(file_path)\n",
        "    print(latest_status)\n"
      ],
      "metadata": {
        "colab": {
          "base_uri": "https://localhost:8080/"
        },
        "id": "YAHZZvsnio9c",
        "outputId": "b19b84dc-59bb-47ac-962f-2d9bec98d506"
      },
      "execution_count": 44,
      "outputs": [
        {
          "output_type": "stream",
          "name": "stdout",
          "text": [
            "7               flightkey   flight_dt flightnum orig_arpt dest_arpt  \\\n",
            "0       DL434661038ATLROC  2019-01-01      1038       ATL       ROC   \n",
            "1       DL434661048ATLRSW  2019-01-01      1048       ATL       RSW   \n",
            "2       DL434661050ATLDEN  2019-01-01      1050       ATL       DEN   \n",
            "3       DL434661052ATLMKE  2019-01-01      1052       ATL       MKE   \n",
            "4       DL434661053ATLPBI  2019-01-01      1053       ATL       PBI   \n",
            "...                   ...         ...       ...       ...       ...   \n",
            "244073   DL43830987ATLMSP  2019-12-31       987       ATL       MSP   \n",
            "244074   DL43830991ATLDTW  2019-12-31       991       ATL       DTW   \n",
            "244075   DL43830992ATLIAH  2019-12-31       992       ATL       IAH   \n",
            "244076   DL43830993ATLMSP  2019-12-31       993       ATL       MSP   \n",
            "244077   DL43830995ATLRDU  2019-12-31       995       ATL       RDU   \n",
            "\n",
            "7      flightstatus            lastupdt  \n",
            "0          Boarding 2019-01-01 09:28:00  \n",
            "1          Boarding 2019-01-01 07:34:00  \n",
            "2          Boarding 2019-01-01 09:26:00  \n",
            "3          Boarding 2019-01-01 14:05:00  \n",
            "4          Boarding 2019-01-01 16:04:00  \n",
            "...             ...                 ...  \n",
            "244073     Boarding 2019-12-31 10:47:00  \n",
            "244074     Boarding 2019-12-31 15:11:00  \n",
            "244075     Boarding 2019-12-31 10:58:00  \n",
            "244076     Boarding 2019-12-31 19:14:00  \n",
            "244077     Boarding 2019-12-31 17:43:00  \n",
            "\n",
            "[244078 rows x 7 columns]\n"
          ]
        }
      ]
    },
    {
      "cell_type": "code",
      "source": [
        "latest_status['flightkey'].nunique()"
      ],
      "metadata": {
        "colab": {
          "base_uri": "https://localhost:8080/"
        },
        "id": "bO30gf_foi-B",
        "outputId": "79263e40-979c-4929-b713-b8788a71099c"
      },
      "execution_count": 45,
      "outputs": [
        {
          "output_type": "execute_result",
          "data": {
            "text/plain": [
              "244078"
            ]
          },
          "metadata": {},
          "execution_count": 45
        }
      ]
    }
  ]
}